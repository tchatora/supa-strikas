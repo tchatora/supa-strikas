{
 "cells": [
  {
   "cell_type": "code",
   "execution_count": 36,
   "id": "35bbd77d-4113-4f32-b719-92129fb23402",
   "metadata": {},
   "outputs": [],
   "source": [
    "import pandas as pd\n",
    "import altair as alt"
   ]
  },
  {
   "cell_type": "code",
   "execution_count": 37,
   "id": "f40650af-46a5-4594-9f46-0e6e5415dbd4",
   "metadata": {},
   "outputs": [],
   "source": [
    "data = pd.read_csv('~/my-book/data/transactions_2025_03_16.csv')"
   ]
  },
  {
   "cell_type": "code",
   "execution_count": 38,
   "id": "da368de8-691a-4615-a5cd-ff3305531c1e",
   "metadata": {},
   "outputs": [
    {
     "data": {
      "text/html": [
       "<div>\n",
       "<style scoped>\n",
       "    .dataframe tbody tr th:only-of-type {\n",
       "        vertical-align: middle;\n",
       "    }\n",
       "\n",
       "    .dataframe tbody tr th {\n",
       "        vertical-align: top;\n",
       "    }\n",
       "\n",
       "    .dataframe thead th {\n",
       "        text-align: right;\n",
       "    }\n",
       "</style>\n",
       "<table border=\"1\" class=\"dataframe\">\n",
       "  <thead>\n",
       "    <tr style=\"text-align: right;\">\n",
       "      <th></th>\n",
       "      <th>Player</th>\n",
       "      <th>Team</th>\n",
       "      <th>Position</th>\n",
       "      <th>Type</th>\n",
       "      <th>Team.1</th>\n",
       "      <th>Date (PDT)</th>\n",
       "      <th>Gameweek</th>\n",
       "    </tr>\n",
       "  </thead>\n",
       "  <tbody>\n",
       "    <tr>\n",
       "      <th>0</th>\n",
       "      <td>Mateo Kovacic</td>\n",
       "      <td>MCI</td>\n",
       "      <td>M</td>\n",
       "      <td>Drop</td>\n",
       "      <td>We don't talk about Bruno</td>\n",
       "      <td>Sat Mar 15, 2025, 7:46AM</td>\n",
       "      <td>29</td>\n",
       "    </tr>\n",
       "    <tr>\n",
       "      <th>1</th>\n",
       "      <td>Malo Gusto</td>\n",
       "      <td>CHE</td>\n",
       "      <td>D</td>\n",
       "      <td>Drop</td>\n",
       "      <td>We don't talk about Bruno</td>\n",
       "      <td>Sat Mar 15, 2025, 7:45AM</td>\n",
       "      <td>29</td>\n",
       "    </tr>\n",
       "    <tr>\n",
       "      <th>2</th>\n",
       "      <td>Eddie Nketiah</td>\n",
       "      <td>CRY</td>\n",
       "      <td>F</td>\n",
       "      <td>Drop</td>\n",
       "      <td>Tiki Tak</td>\n",
       "      <td>Fri Mar 14, 2025, 10:35PM</td>\n",
       "      <td>29</td>\n",
       "    </tr>\n",
       "    <tr>\n",
       "      <th>3</th>\n",
       "      <td>Dean Henderson</td>\n",
       "      <td>CRY</td>\n",
       "      <td>G</td>\n",
       "      <td>Drop</td>\n",
       "      <td>Just gimme de Ligt and pass the Rice.</td>\n",
       "      <td>Fri Mar 14, 2025, 1:33PM</td>\n",
       "      <td>29</td>\n",
       "    </tr>\n",
       "    <tr>\n",
       "      <th>4</th>\n",
       "      <td>Jan Bednarek</td>\n",
       "      <td>SOU</td>\n",
       "      <td>D</td>\n",
       "      <td>Drop</td>\n",
       "      <td>Just gimme de Ligt and pass the Rice.</td>\n",
       "      <td>Fri Mar 14, 2025, 1:24PM</td>\n",
       "      <td>29</td>\n",
       "    </tr>\n",
       "  </tbody>\n",
       "</table>\n",
       "</div>"
      ],
      "text/plain": [
       "           Player Team Position  Type                                 Team.1  \\\n",
       "0   Mateo Kovacic  MCI        M  Drop              We don't talk about Bruno   \n",
       "1      Malo Gusto  CHE        D  Drop              We don't talk about Bruno   \n",
       "2   Eddie Nketiah  CRY        F  Drop                               Tiki Tak   \n",
       "3  Dean Henderson  CRY        G  Drop  Just gimme de Ligt and pass the Rice.   \n",
       "4    Jan Bednarek  SOU        D  Drop  Just gimme de Ligt and pass the Rice.   \n",
       "\n",
       "                  Date (PDT)  Gameweek  \n",
       "0   Sat Mar 15, 2025, 7:46AM        29  \n",
       "1   Sat Mar 15, 2025, 7:45AM        29  \n",
       "2  Fri Mar 14, 2025, 10:35PM        29  \n",
       "3   Fri Mar 14, 2025, 1:33PM        29  \n",
       "4   Fri Mar 14, 2025, 1:24PM        29  "
      ]
     },
     "execution_count": 38,
     "metadata": {},
     "output_type": "execute_result"
    }
   ],
   "source": [
    "data_claims = data[data.loc[:,'Type'] == 'Drop'].reset_index(drop = True)\n",
    "data_claims.head()\n"
   ]
  },
  {
   "cell_type": "code",
   "execution_count": 66,
   "id": "7af78909-ebe4-45bb-a40e-736e8046970e",
   "metadata": {
    "scrolled": true
   },
   "outputs": [
    {
     "name": "stdout",
     "output_type": "stream",
     "text": [
      "<class 'pandas.core.frame.DataFrame'>\n",
      "RangeIndex: 9 entries, 0 to 8\n",
      "Data columns (total 2 columns):\n",
      " #   Column  Non-Null Count  Dtype \n",
      "---  ------  --------------  ----- \n",
      " 0   Team.1  9 non-null      object\n",
      " 1   count   9 non-null      int64 \n",
      "dtypes: int64(1), object(1)\n",
      "memory usage: 276.0+ bytes\n"
     ]
    }
   ],
   "source": [
    "most_claims = data_claims['Team.1'].value_counts().reset_index()\n",
    "#most_claims = most_claims.rename(columns = {'index':'Name'}).astype(str)\n",
    "most_claims['Team.1'] = most_claims['Team.1'].astype(str)\n",
    "most_claims['count'] = most_claims['count'].astype(int)\n",
    "\n",
    "most_claims.info()"
   ]
  },
  {
   "cell_type": "code",
   "execution_count": null,
   "id": "e1054aa8-3cf1-4933-87f6-11837052e3bb",
   "metadata": {},
   "outputs": [],
   "source": []
  },
  {
   "cell_type": "code",
   "execution_count": 83,
   "id": "df5cb114-a465-4856-8acd-9963487264fe",
   "metadata": {},
   "outputs": [
    {
     "data": {
      "text/html": [
       "\n",
       "<style>\n",
       "  #altair-viz-e62d5f18d00e43d7a3f138649839d151.vega-embed {\n",
       "    width: 100%;\n",
       "    display: flex;\n",
       "  }\n",
       "\n",
       "  #altair-viz-e62d5f18d00e43d7a3f138649839d151.vega-embed details,\n",
       "  #altair-viz-e62d5f18d00e43d7a3f138649839d151.vega-embed details summary {\n",
       "    position: relative;\n",
       "  }\n",
       "</style>\n",
       "<div id=\"altair-viz-e62d5f18d00e43d7a3f138649839d151\"></div>\n",
       "<script type=\"text/javascript\">\n",
       "  var VEGA_DEBUG = (typeof VEGA_DEBUG == \"undefined\") ? {} : VEGA_DEBUG;\n",
       "  (function(spec, embedOpt){\n",
       "    let outputDiv = document.currentScript.previousElementSibling;\n",
       "    if (outputDiv.id !== \"altair-viz-e62d5f18d00e43d7a3f138649839d151\") {\n",
       "      outputDiv = document.getElementById(\"altair-viz-e62d5f18d00e43d7a3f138649839d151\");\n",
       "    }\n",
       "\n",
       "    const paths = {\n",
       "      \"vega\": \"https://cdn.jsdelivr.net/npm/vega@5?noext\",\n",
       "      \"vega-lib\": \"https://cdn.jsdelivr.net/npm/vega-lib?noext\",\n",
       "      \"vega-lite\": \"https://cdn.jsdelivr.net/npm/vega-lite@5.20.1?noext\",\n",
       "      \"vega-embed\": \"https://cdn.jsdelivr.net/npm/vega-embed@6?noext\",\n",
       "    };\n",
       "\n",
       "    function maybeLoadScript(lib, version) {\n",
       "      var key = `${lib.replace(\"-\", \"\")}_version`;\n",
       "      return (VEGA_DEBUG[key] == version) ?\n",
       "        Promise.resolve(paths[lib]) :\n",
       "        new Promise(function(resolve, reject) {\n",
       "          var s = document.createElement('script');\n",
       "          document.getElementsByTagName(\"head\")[0].appendChild(s);\n",
       "          s.async = true;\n",
       "          s.onload = () => {\n",
       "            VEGA_DEBUG[key] = version;\n",
       "            return resolve(paths[lib]);\n",
       "          };\n",
       "          s.onerror = () => reject(`Error loading script: ${paths[lib]}`);\n",
       "          s.src = paths[lib];\n",
       "        });\n",
       "    }\n",
       "\n",
       "    function showError(err) {\n",
       "      outputDiv.innerHTML = `<div class=\"error\" style=\"color:red;\">${err}</div>`;\n",
       "      throw err;\n",
       "    }\n",
       "\n",
       "    function displayChart(vegaEmbed) {\n",
       "      vegaEmbed(outputDiv, spec, embedOpt)\n",
       "        .catch(err => showError(`Javascript Error: ${err.message}<br>This usually means there's a typo in your chart specification. See the javascript console for the full traceback.`));\n",
       "    }\n",
       "\n",
       "    if(typeof define === \"function\" && define.amd) {\n",
       "      requirejs.config({paths});\n",
       "      let deps = [\"vega-embed\"];\n",
       "      require(deps, displayChart, err => showError(`Error loading script: ${err.message}`));\n",
       "    } else {\n",
       "      maybeLoadScript(\"vega\", \"5\")\n",
       "        .then(() => maybeLoadScript(\"vega-lite\", \"5.20.1\"))\n",
       "        .then(() => maybeLoadScript(\"vega-embed\", \"6\"))\n",
       "        .catch(showError)\n",
       "        .then(() => displayChart(vegaEmbed));\n",
       "    }\n",
       "  })({\"config\": {\"view\": {\"continuousWidth\": 300, \"continuousHeight\": 300}}, \"data\": {\"name\": \"data-bc2b8b79c894095292113ebd921d9fc9\"}, \"mark\": {\"type\": \"bar\"}, \"encoding\": {\"x\": {\"aggregate\": \"count\", \"type\": \"quantitative\"}, \"y\": {\"field\": \"Team\", \"sort\": \"-x\", \"type\": \"nominal\"}}, \"height\": 300, \"width\": 500, \"$schema\": \"https://vega.github.io/schema/vega-lite/v5.20.1.json\", \"datasets\": {\"data-bc2b8b79c894095292113ebd921d9fc9\": [{\"Player\": \"Mateo Kovacic\", \"Team\": \"MCI\", \"Position\": \"M\", \"Type\": \"Drop\", \"Team.1\": \"We don't talk about Bruno\", \"Date (PDT)\": \"Sat Mar 15, 2025, 7:46AM\", \"Gameweek\": 29}, {\"Player\": \"Malo Gusto\", \"Team\": \"CHE\", \"Position\": \"D\", \"Type\": \"Drop\", \"Team.1\": \"We don't talk about Bruno\", \"Date (PDT)\": \"Sat Mar 15, 2025, 7:45AM\", \"Gameweek\": 29}, {\"Player\": \"Eddie Nketiah\", \"Team\": \"CRY\", \"Position\": \"F\", \"Type\": \"Drop\", \"Team.1\": \"Tiki Tak\", \"Date (PDT)\": \"Fri Mar 14, 2025, 10:35PM\", \"Gameweek\": 29}, {\"Player\": \"Dean Henderson\", \"Team\": \"CRY\", \"Position\": \"G\", \"Type\": \"Drop\", \"Team.1\": \"Just gimme de Ligt and pass the Rice.\", \"Date (PDT)\": \"Fri Mar 14, 2025, 1:33PM\", \"Gameweek\": 29}, {\"Player\": \"Jan Bednarek\", \"Team\": \"SOU\", \"Position\": \"D\", \"Type\": \"Drop\", \"Team.1\": \"Just gimme de Ligt and pass the Rice.\", \"Date (PDT)\": \"Fri Mar 14, 2025, 1:24PM\", \"Gameweek\": 29}, {\"Player\": \"Jacob Murphy\", \"Team\": \"NEW\", \"Position\": \"M\", \"Type\": \"Drop\", \"Team.1\": \"Zirkish De Ligt\", \"Date (PDT)\": \"Fri Mar 14, 2025, 12:22PM\", \"Gameweek\": 29}, {\"Player\": \"Jarrad Branthwaite\", \"Team\": \"EVE\", \"Position\": \"D\", \"Type\": \"Drop\", \"Team.1\": \"Just gimme de Ligt and pass the Rice.\", \"Date (PDT)\": \"Fri Mar 14, 2025, 9:00AM\", \"Gameweek\": 29}, {\"Player\": \"Manuel Akanji\", \"Team\": \"MCI\", \"Position\": \"D\", \"Type\": \"Drop\", \"Team.1\": \"JP\", \"Date (PDT)\": \"Fri Mar 14, 2025, 9:00AM\", \"Gameweek\": 29}, {\"Player\": \"Jorgen Strand Larsen\", \"Team\": \"WOL\", \"Position\": \"F\", \"Type\": \"Drop\", \"Team.1\": \"Tiki Tak\", \"Date (PDT)\": \"Sat Mar 8, 2025, 3:10AM\", \"Gameweek\": 28}, {\"Player\": \"Reece James\", \"Team\": \"CHE\", \"Position\": \"D\", \"Type\": \"Drop\", \"Team.1\": \"Tiki Tak\", \"Date (PDT)\": \"Sat Mar 8, 2025, 3:10AM\", \"Gameweek\": 28}, {\"Player\": \"Dean Huijsen\", \"Team\": \"BOU\", \"Position\": \"D\", \"Type\": \"Drop\", \"Team.1\": \"Tiki Tak\", \"Date (PDT)\": \"Sat Mar 8, 2025, 3:07AM\", \"Gameweek\": 28}, {\"Player\": \"Dwight McNeil\", \"Team\": \"EVE\", \"Position\": \"M,F\", \"Type\": \"Drop\", \"Team.1\": \"Rocksolid FC\", \"Date (PDT)\": \"Sat Mar 8, 2025, 12:00AM\", \"Gameweek\": 28}, {\"Player\": \"Eddie Nketiah\", \"Team\": \"CRY\", \"Position\": \"F\", \"Type\": \"Drop\", \"Team.1\": \"Virgile\", \"Date (PDT)\": \"Fri Mar 7, 2025, 10:59PM\", \"Gameweek\": 28}, {\"Player\": \"Lewis Hall\", \"Team\": \"NEW\", \"Position\": \"D,M\", \"Type\": \"Drop\", \"Team.1\": \"Virgile\", \"Date (PDT)\": \"Fri Mar 7, 2025, 10:56PM\", \"Gameweek\": 28}, {\"Player\": \"Carlos Alcaraz\", \"Team\": \"EVE\", \"Position\": \"M\", \"Type\": \"Drop\", \"Team.1\": \"That's Amorim!\", \"Date (PDT)\": \"Fri Mar 7, 2025, 1:09PM\", \"Gameweek\": 28}, {\"Player\": \"Vitalii Mykolenko\", \"Team\": \"EVE\", \"Position\": \"D\", \"Type\": \"Drop\", \"Team.1\": \"Tiki Tak\", \"Date (PDT)\": \"Wed Mar 5, 2025, 3:07PM\", \"Gameweek\": 28}, {\"Player\": \"Raul Jimenez\", \"Team\": \"FUL\", \"Position\": \"F\", \"Type\": \"Drop\", \"Team.1\": \"Tiki Tak\", \"Date (PDT)\": \"Wed Mar 5, 2025, 3:05PM\", \"Gameweek\": 28}, {\"Player\": \"Liam Delap\", \"Team\": \"IPS\", \"Position\": \"F\", \"Type\": \"Drop\", \"Team.1\": \"Virgile\", \"Date (PDT)\": \"Sat Mar 1, 2025, 6:07AM\", \"Gameweek\": 28}, {\"Player\": \"Donyell Malen\", \"Team\": \"AVL\", \"Position\": \"F\", \"Type\": \"Drop\", \"Team.1\": \"Virgile\", \"Date (PDT)\": \"Sat Mar 1, 2025, 6:06AM\", \"Gameweek\": 28}, {\"Player\": \"Ryan Gravenberch\", \"Team\": \"LIV\", \"Position\": \"M\", \"Type\": \"Drop\", \"Team.1\": \"Just gimme de Ligt and pass the Rice.\", \"Date (PDT)\": \"Fri Feb 28, 2025, 9:00AM\", \"Gameweek\": 28}, {\"Player\": \"Moises Caicedo\", \"Team\": \"CHE\", \"Position\": \"M\", \"Type\": \"Drop\", \"Team.1\": \"We don't talk about Bruno\", \"Date (PDT)\": \"Fri Feb 28, 2025, 9:00AM\", \"Gameweek\": 28}, {\"Player\": \"Amad Diallo\", \"Team\": \"MUN\", \"Position\": \"M,F\", \"Type\": \"Drop\", \"Team.1\": \"JP\", \"Date (PDT)\": \"Sat Feb 22, 2025, 9:00AM\", \"Gameweek\": 27}, {\"Player\": \"Dean Henderson\", \"Team\": \"CRY\", \"Position\": \"G\", \"Type\": \"Drop\", \"Team.1\": \"Just gimme de Ligt and pass the Rice.\", \"Date (PDT)\": \"Fri Feb 21, 2025, 11:49AM\", \"Gameweek\": 26}, {\"Player\": \"Taylor Harwood-Bellis\", \"Team\": \"SOU\", \"Position\": \"D\", \"Type\": \"Drop\", \"Team.1\": \"Just gimme de Ligt and pass the Rice.\", \"Date (PDT)\": \"Fri Feb 21, 2025, 11:21AM\", \"Gameweek\": 26}, {\"Player\": \"Kai Havertz\", \"Team\": \"ARS\", \"Position\": \"M,F\", \"Type\": \"Drop\", \"Team.1\": \"That's Amorim!\", \"Date (PDT)\": \"Fri Feb 21, 2025, 9:24AM\", \"Gameweek\": 26}, {\"Player\": \"Martin Dubravka\", \"Team\": \"NEW\", \"Position\": \"G\", \"Type\": \"Drop\", \"Team.1\": \"That's Amorim!\", \"Date (PDT)\": \"Fri Feb 21, 2025, 9:23AM\", \"Gameweek\": 26}, {\"Player\": \"Enzo Fernandez\", \"Team\": \"CHE\", \"Position\": \"M\", \"Type\": \"Drop\", \"Team.1\": \"That's Amorim!\", \"Date (PDT)\": \"Fri Feb 21, 2025, 9:20AM\", \"Gameweek\": 26}, {\"Player\": \"Mateo Kovacic\", \"Team\": \"MCI\", \"Position\": \"M\", \"Type\": \"Drop\", \"Team.1\": \"That's Amorim!\", \"Date (PDT)\": \"Fri Feb 21, 2025, 9:19AM\", \"Gameweek\": 26}, {\"Player\": \"Julio Enciso\", \"Team\": \"IPS\", \"Position\": \"M,F\", \"Type\": \"Drop\", \"Team.1\": \"Zirkish De Ligt\", \"Date (PDT)\": \"Fri Feb 21, 2025, 9:00AM\", \"Gameweek\": 26}, {\"Player\": \"Leif Davis\", \"Team\": \"IPS\", \"Position\": \"D\", \"Type\": \"Drop\", \"Team.1\": \"Zirkish De Ligt\", \"Date (PDT)\": \"Fri Feb 21, 2025, 9:00AM\", \"Gameweek\": 26}, {\"Player\": \"Richarlison\", \"Team\": \"TOT\", \"Position\": \"F\", \"Type\": \"Drop\", \"Team.1\": \"JP\", \"Date (PDT)\": \"Fri Feb 21, 2025, 9:00AM\", \"Gameweek\": 26}, {\"Player\": \"Reece James\", \"Team\": \"CHE\", \"Position\": \"D\", \"Type\": \"Drop\", \"Team.1\": \"Rocksolid FC\", \"Date (PDT)\": \"Fri Feb 21, 2025, 9:00AM\", \"Gameweek\": 26}, {\"Player\": \"Abdul Fatawu\", \"Team\": \"LEI\", \"Position\": \"M,F\", \"Type\": \"Drop\", \"Team.1\": \"Jared\", \"Date (PDT)\": \"Fri Feb 21, 2025, 9:00AM\", \"Gameweek\": 26}, {\"Player\": \"Jacob Ramsey\", \"Team\": \"AVL\", \"Position\": \"M\", \"Type\": \"Drop\", \"Team.1\": \"Tiki Tak\", \"Date (PDT)\": \"Fri Feb 21, 2025, 9:00AM\", \"Gameweek\": 26}, {\"Player\": \"Danny Welbeck\", \"Team\": \"BHA\", \"Position\": \"F\", \"Type\": \"Drop\", \"Team.1\": \"Zirkish De Ligt\", \"Date (PDT)\": \"Fri Feb 21, 2025, 9:00AM\", \"Gameweek\": 26}, {\"Player\": \"Mikel Merino\", \"Team\": \"ARS\", \"Position\": \"M\", \"Type\": \"Drop\", \"Team.1\": \"Jared\", \"Date (PDT)\": \"Fri Feb 21, 2025, 10:55AM\", \"Gameweek\": 26}, {\"Player\": \"Abdul Fatawu\", \"Team\": \"LEI\", \"Position\": \"M,F\", \"Type\": \"Drop\", \"Team.1\": \"Jared\", \"Date (PDT)\": \"Sat Feb 15, 2025, 3:05PM\", \"Gameweek\": 26}, {\"Player\": \"Jamie Vardy\", \"Team\": \"LEI\", \"Position\": \"F\", \"Type\": \"Drop\", \"Team.1\": \"Just gimme de Ligt and pass the Rice.\", \"Date (PDT)\": \"Fri Feb 14, 2025, 11:46AM\", \"Gameweek\": 25}, {\"Player\": \"Lisandro Martinez\", \"Team\": \"MUN\", \"Position\": \"D\", \"Type\": \"Drop\", \"Team.1\": \"Just gimme de Ligt and pass the Rice.\", \"Date (PDT)\": \"Fri Feb 14, 2025, 11:44AM\", \"Gameweek\": 25}, {\"Player\": \"Jorgen Strand Larsen\", \"Team\": \"WOL\", \"Position\": \"F\", \"Type\": \"Drop\", \"Team.1\": \"Jared\", \"Date (PDT)\": \"Fri Feb 14, 2025, 11:38AM\", \"Gameweek\": 25}, {\"Player\": \"Harry Wilson\", \"Team\": \"FUL\", \"Position\": \"M\", \"Type\": \"Drop\", \"Team.1\": \"That's Amorim!\", \"Date (PDT)\": \"Tue Feb 11, 2025, 11:34AM\", \"Gameweek\": 25}, {\"Player\": \"Idrissa Gueye\", \"Team\": \"EVE\", \"Position\": \"M\", \"Type\": \"Drop\", \"Team.1\": \"Zirkish De Ligt\", \"Date (PDT)\": \"Sun Feb 9, 2025, 9:26PM\", \"Gameweek\": 25}, {\"Player\": \"Fabian Schar\", \"Team\": \"NEW\", \"Position\": \"D\", \"Type\": \"Drop\", \"Team.1\": \"Tiki Tak\", \"Date (PDT)\": \"Sun Feb 9, 2025, 6:12PM\", \"Gameweek\": 25}, {\"Player\": \"Matthijs de Ligt\", \"Team\": \"MUN\", \"Position\": \"D\", \"Type\": \"Drop\", \"Team.1\": \"Just gimme de Ligt and pass the Rice.\", \"Date (PDT)\": \"Sun Feb 9, 2025, 10:35AM\", \"Gameweek\": 25}, {\"Player\": \"Dean Huijsen\", \"Team\": \"BOU\", \"Position\": \"D\", \"Type\": \"Drop\", \"Team.1\": \"Rocksolid FC\", \"Date (PDT)\": \"Sat Feb 8, 2025, 6:45AM\", \"Gameweek\": 25}, {\"Player\": \"Keane Lewis-Potter\", \"Team\": \"BRF\", \"Position\": \"F\", \"Type\": \"Drop\", \"Team.1\": \"Rocksolid FC\", \"Date (PDT)\": \"Sat Feb 8, 2025, 6:43AM\", \"Gameweek\": 25}, {\"Player\": \"Jarrad Branthwaite\", \"Team\": \"EVE\", \"Position\": \"D\", \"Type\": \"Drop\", \"Team.1\": \"Rocksolid FC\", \"Date (PDT)\": \"Sat Feb 8, 2025, 6:37AM\", \"Gameweek\": 25}, {\"Player\": \"Tyrick Mitchell\", \"Team\": \"CRY\", \"Position\": \"D\", \"Type\": \"Drop\", \"Team.1\": \"Rocksolid FC\", \"Date (PDT)\": \"Fri Jan 31, 2025, 12:58PM\", \"Gameweek\": 24}, {\"Player\": \"Jadon Sancho\", \"Team\": \"CHE\", \"Position\": \"M,F\", \"Type\": \"Drop\", \"Team.1\": \"Zirkish De Ligt\", \"Date (PDT)\": \"Fri Jan 31, 2025, 9:35AM\", \"Gameweek\": 24}, {\"Player\": \"Tomas Soucek\", \"Team\": \"WHU\", \"Position\": \"M\", \"Type\": \"Drop\", \"Team.1\": \"JP\", \"Date (PDT)\": \"Fri Jan 31, 2025, 9:00AM\", \"Gameweek\": 24}, {\"Player\": \"Jaden Philogene-Bidace\", \"Team\": \"IPS\", \"Position\": \"F\", \"Type\": \"Drop\", \"Team.1\": \"Virgile\", \"Date (PDT)\": \"Fri Jan 31, 2025, 9:00AM\", \"Gameweek\": 24}, {\"Player\": \"Joelinton\", \"Team\": \"NEW\", \"Position\": \"F\", \"Type\": \"Drop\", \"Team.1\": \"JP\", \"Date (PDT)\": \"Sat Jan 25, 2025, 9:00AM\", \"Gameweek\": 24}, {\"Player\": \"Kamaldeen Sulemana\", \"Team\": \"SOU\", \"Position\": \"M\", \"Type\": \"Drop\", \"Team.1\": \"That's Amorim!\", \"Date (PDT)\": \"Sat Jan 25, 2025, 9:00AM\", \"Gameweek\": 24}, {\"Player\": \"Marc Cucurella\", \"Team\": \"CHE\", \"Position\": \"D\", \"Type\": \"Drop\", \"Team.1\": \"Tiki Tak\", \"Date (PDT)\": \"Sat Jan 25, 2025, 5:53AM\", \"Gameweek\": 23}, {\"Player\": \"Solly March\", \"Team\": \"BHA\", \"Position\": \"M\", \"Type\": \"Drop\", \"Team.1\": \"Tiki Tak\", \"Date (PDT)\": \"Sat Jan 25, 2025, 5:45AM\", \"Gameweek\": 23}, {\"Player\": \"Noussair Mazraoui\", \"Team\": \"MUN\", \"Position\": \"D\", \"Type\": \"Drop\", \"Team.1\": \"Tiki Tak\", \"Date (PDT)\": \"Sat Jan 25, 2025, 5:43AM\", \"Gameweek\": 23}, {\"Player\": \"Dominic Solanke\", \"Team\": \"TOT\", \"Position\": \"F\", \"Type\": \"Drop\", \"Team.1\": \"JP\", \"Date (PDT)\": \"Fri Jan 24, 2025, 1:52PM\", \"Gameweek\": 23}, {\"Player\": \"Jeremy Doku\", \"Team\": \"MCI\", \"Position\": \"M,F\", \"Type\": \"Drop\", \"Team.1\": \"Rocksolid FC\", \"Date (PDT)\": \"Fri Jan 24, 2025, 9:00AM\", \"Gameweek\": 23}, {\"Player\": \"Diogo Dalot\", \"Team\": \"MUN\", \"Position\": \"D\", \"Type\": \"Drop\", \"Team.1\": \"Rocksolid FC\", \"Date (PDT)\": \"Sat Jan 18, 2025, 3:27AM\", \"Gameweek\": 22}, {\"Player\": \"Gabriel Jesus\", \"Team\": \"ARS\", \"Position\": \"F\", \"Type\": \"Drop\", \"Team.1\": \"Tiki Tak\", \"Date (PDT)\": \"Fri Jan 17, 2025, 2:00PM\", \"Gameweek\": 22}, {\"Player\": \"Leny Yoro\", \"Team\": \"MUN\", \"Position\": \"D\", \"Type\": \"Drop\", \"Team.1\": \"That's Amorim!\", \"Date (PDT)\": \"Fri Jan 17, 2025, 10:30AM\", \"Gameweek\": 22}, {\"Player\": \"Lukasz Fabianski\", \"Team\": \"WHU\", \"Position\": \"G\", \"Type\": \"Drop\", \"Team.1\": \"Rocksolid FC\", \"Date (PDT)\": \"Fri Jan 17, 2025, 9:05AM\", \"Gameweek\": 22}, {\"Player\": \"Nikola Milenkovic\", \"Team\": \"NOT\", \"Position\": \"D\", \"Type\": \"Drop\", \"Team.1\": \"Virgile\", \"Date (PDT)\": \"Fri Jan 17, 2025, 9:00AM\", \"Gameweek\": 22}, {\"Player\": \"Curtis Jones\", \"Team\": \"LIV\", \"Position\": \"M\", \"Type\": \"Drop\", \"Team.1\": \"Virgile\", \"Date (PDT)\": \"Fri Jan 17, 2025, 9:00AM\", \"Gameweek\": 22}, {\"Player\": \"Christian Norgaard\", \"Team\": \"BRF\", \"Position\": \"M\", \"Type\": \"Drop\", \"Team.1\": \"Rocksolid FC\", \"Date (PDT)\": \"Tue Jan 14, 2025, 10:40AM\", \"Gameweek\": 21}, {\"Player\": \"Kepa\", \"Team\": \"BOU\", \"Position\": \"G\", \"Type\": \"Drop\", \"Team.1\": \"Rocksolid FC\", \"Date (PDT)\": \"Tue Jan 14, 2025, 10:38AM\", \"Gameweek\": 21}, {\"Player\": \"Omari Hutchinson\", \"Team\": \"IPS\", \"Position\": \"M,F\", \"Type\": \"Drop\", \"Team.1\": \"Zirkish De Ligt\", \"Date (PDT)\": \"Mon Jan 13, 2025, 11:56AM\", \"Gameweek\": 21}, {\"Player\": \"Dominik Szoboszlai\", \"Team\": \"LIV\", \"Position\": \"M\", \"Type\": \"Drop\", \"Team.1\": \"Tiki Tak\", \"Date (PDT)\": \"Fri Jan 10, 2025, 1:23PM\", \"Gameweek\": 21}, {\"Player\": \"Facundo Buonanotte\", \"Team\": \"LEI\", \"Position\": \"M\", \"Type\": \"Drop\", \"Team.1\": \"That's Amorim!\", \"Date (PDT)\": \"Fri Jan 10, 2025, 12:34PM\", \"Gameweek\": 21}, {\"Player\": \"Victor Kristiansen\", \"Team\": \"LEI\", \"Position\": \"D\", \"Type\": \"Drop\", \"Team.1\": \"That's Amorim!\", \"Date (PDT)\": \"Fri Jan 10, 2025, 12:34PM\", \"Gameweek\": 21}, {\"Player\": \"Mark Flekken\", \"Team\": \"BRF\", \"Position\": \"G\", \"Type\": \"Drop\", \"Team.1\": \"Just gimme de Ligt and pass the Rice.\", \"Date (PDT)\": \"Fri Jan 10, 2025, 9:00AM\", \"Gameweek\": 21}, {\"Player\": \"Danny Welbeck\", \"Team\": \"BHA\", \"Position\": \"F\", \"Type\": \"Drop\", \"Team.1\": \"JP\", \"Date (PDT)\": \"Fri Jan 10, 2025, 9:00AM\", \"Gameweek\": 21}, {\"Player\": \"Francisco Evanilson de Lima Barbosa\", \"Team\": \"BOU\", \"Position\": \"F\", \"Type\": \"Drop\", \"Team.1\": \"Virgile\", \"Date (PDT)\": \"Fri Jan 10, 2025, 9:00AM\", \"Gameweek\": 21}, {\"Player\": \"Adam Wharton\", \"Team\": \"CRY\", \"Position\": \"M\", \"Type\": \"Drop\", \"Team.1\": \"Rocksolid FC\", \"Date (PDT)\": \"Sat Jan 4, 2025, 4:08AM\", \"Gameweek\": 20}, {\"Player\": \"Ashley Young\", \"Team\": \"EVE\", \"Position\": \"D\", \"Type\": \"Drop\", \"Team.1\": \"That's Amorim!\", \"Date (PDT)\": \"Fri Jan 3, 2025, 6:23PM\", \"Gameweek\": 20}, {\"Player\": \"Marcus Rashford\", \"Team\": \"AVL\", \"Position\": \"M,F\", \"Type\": \"Drop\", \"Team.1\": \"Virgile\", \"Date (PDT)\": \"Fri Jan 3, 2025, 5:30PM\", \"Gameweek\": 20}, {\"Player\": \"Robert Sanchez\", \"Team\": \"CHE\", \"Position\": \"G\", \"Type\": \"Drop\", \"Team.1\": \"Virgile\", \"Date (PDT)\": \"Fri Jan 3, 2025, 3:17PM\", \"Gameweek\": 20}, {\"Player\": \"Harvey Barnes\", \"Team\": \"NEW\", \"Position\": \"M\", \"Type\": \"Drop\", \"Team.1\": \"Virgile\", \"Date (PDT)\": \"Fri Jan 3, 2025, 3:13PM\", \"Gameweek\": 20}, {\"Player\": \"Noussair Mazraoui\", \"Team\": \"MUN\", \"Position\": \"D\", \"Type\": \"Drop\", \"Team.1\": \"Virgile\", \"Date (PDT)\": \"Fri Jan 3, 2025, 3:01PM\", \"Gameweek\": 20}, {\"Player\": \"Jarrod Bowen\", \"Team\": \"WHU\", \"Position\": \"M,F\", \"Type\": \"Drop\", \"Team.1\": \"Zirkish De Ligt\", \"Date (PDT)\": \"Fri Jan 3, 2025, 1:39PM\", \"Gameweek\": 20}, {\"Player\": \"Tyrick Mitchell\", \"Team\": \"CRY\", \"Position\": \"D\", \"Type\": \"Drop\", \"Team.1\": \"Zirkish De Ligt\", \"Date (PDT)\": \"Fri Jan 3, 2025, 1:31PM\", \"Gameweek\": 20}, {\"Player\": \"Joseph Gomez\", \"Team\": \"LIV\", \"Position\": \"D\", \"Type\": \"Drop\", \"Team.1\": \"Zirkish De Ligt\", \"Date (PDT)\": \"Fri Jan 3, 2025, 1:30PM\", \"Gameweek\": 20}, {\"Player\": \"Rasmus Hojlund\", \"Team\": \"MUN\", \"Position\": \"F\", \"Type\": \"Drop\", \"Team.1\": \"JP\", \"Date (PDT)\": \"Fri Jan 3, 2025, 12:36PM\", \"Gameweek\": 20}, {\"Player\": \"Adam Armstrong\", \"Team\": \"SOU\", \"Position\": \"F\", \"Type\": \"Drop\", \"Team.1\": \"Jared\", \"Date (PDT)\": \"Fri Jan 3, 2025, 9:00AM\", \"Gameweek\": 20}, {\"Player\": \"Aaron Wan-Bissaka\", \"Team\": \"WHU\", \"Position\": \"D\", \"Type\": \"Drop\", \"Team.1\": \"Rocksolid FC\", \"Date (PDT)\": \"Sun Dec 29, 2024, 6:14AM\", \"Gameweek\": 19}, {\"Player\": \"Francisco Evanilson de Lima Barbosa\", \"Team\": \"BOU\", \"Position\": \"F\", \"Type\": \"Drop\", \"Team.1\": \"Tiki Tak\", \"Date (PDT)\": \"Sat Dec 28, 2024, 8:03PM\", \"Gameweek\": 19}, {\"Player\": \"Djed Spence\", \"Team\": \"TOT\", \"Position\": \"D\", \"Type\": \"Drop\", \"Team.1\": \"Zirkish De Ligt\", \"Date (PDT)\": \"Sat Dec 28, 2024, 10:26AM\", \"Gameweek\": 19}, {\"Player\": \"Lewis Dunk\", \"Team\": \"BHA\", \"Position\": \"D\", \"Type\": \"Drop\", \"Team.1\": \"Just gimme de Ligt and pass the Rice.\", \"Date (PDT)\": \"Sat Dec 28, 2024, 10:18AM\", \"Gameweek\": 19}, {\"Player\": \"Mario Lemina\", \"Team\": \"WOL\", \"Position\": \"M\", \"Type\": \"Drop\", \"Team.1\": \"Rocksolid FC\", \"Date (PDT)\": \"Thu Dec 26, 2024, 3:38AM\", \"Gameweek\": 18}, {\"Player\": \"Lucas Paqueta\", \"Team\": \"WHU\", \"Position\": \"M\", \"Type\": \"Drop\", \"Team.1\": \"JP\", \"Date (PDT)\": \"Tue Dec 24, 2024, 3:34PM\", \"Gameweek\": 18}, {\"Player\": \"Mason Mount\", \"Team\": \"MUN\", \"Position\": \"M\", \"Type\": \"Drop\", \"Team.1\": \"JP\", \"Date (PDT)\": \"Tue Dec 24, 2024, 3:33PM\", \"Gameweek\": 18}, {\"Player\": \"Wout Faes\", \"Team\": \"LEI\", \"Position\": \"D\", \"Type\": \"Drop\", \"Team.1\": \"Just gimme de Ligt and pass the Rice.\", \"Date (PDT)\": \"Tue Dec 24, 2024, 2:20PM\", \"Gameweek\": 18}, {\"Player\": \"Fraser Forster\", \"Team\": \"TOT\", \"Position\": \"G\", \"Type\": \"Drop\", \"Team.1\": \"That's Amorim!\", \"Date (PDT)\": \"Tue Dec 24, 2024, 12:39PM\", \"Gameweek\": 18}, {\"Player\": \"Matty Cash\", \"Team\": \"AVL\", \"Position\": \"D\", \"Type\": \"Drop\", \"Team.1\": \"Zirkish De Ligt\", \"Date (PDT)\": \"Mon Dec 23, 2024, 1:46PM\", \"Gameweek\": 18}, {\"Player\": \"Savio\", \"Team\": \"MCI\", \"Position\": \"M,F\", \"Type\": \"Drop\", \"Team.1\": \"Zirkish De Ligt\", \"Date (PDT)\": \"Mon Dec 23, 2024, 1:44PM\", \"Gameweek\": 18}, {\"Player\": \"Marcus Rashford\", \"Team\": \"AVL\", \"Position\": \"M,F\", \"Type\": \"Drop\", \"Team.1\": \"Zirkish De Ligt\", \"Date (PDT)\": \"Mon Dec 23, 2024, 1:43PM\", \"Gameweek\": 18}, {\"Player\": \"Ibrahima Konate\", \"Team\": \"LIV\", \"Position\": \"D\", \"Type\": \"Drop\", \"Team.1\": \"We don't talk about Bruno\", \"Date (PDT)\": \"Mon Dec 23, 2024, 9:00AM\", \"Gameweek\": 18}, {\"Player\": \"Jorgen Strand Larsen\", \"Team\": \"WOL\", \"Position\": \"F\", \"Type\": \"Drop\", \"Team.1\": \"Tiki Tak\", \"Date (PDT)\": \"Mon Dec 23, 2024, 9:00AM\", \"Gameweek\": 18}, {\"Player\": \"Lucas Digne\", \"Team\": \"AVL\", \"Position\": \"D\", \"Type\": \"Drop\", \"Team.1\": \"We don't talk about Bruno\", \"Date (PDT)\": \"Mon Dec 23, 2024, 9:00AM\", \"Gameweek\": 18}, {\"Player\": \"Liam Delap\", \"Team\": \"IPS\", \"Position\": \"F\", \"Type\": \"Drop\", \"Team.1\": \"Virgile\", \"Date (PDT)\": \"Fri Dec 20, 2024, 10:17PM\", \"Gameweek\": 17}, {\"Player\": \"Ruben Dias\", \"Team\": \"MCI\", \"Position\": \"D\", \"Type\": \"Drop\", \"Team.1\": \"Zirkish De Ligt\", \"Date (PDT)\": \"Fri Dec 20, 2024, 7:50PM\", \"Gameweek\": 17}, {\"Player\": \"Pervis Estupinan\", \"Team\": \"BHA\", \"Position\": \"D\", \"Type\": \"Drop\", \"Team.1\": \"Tiki Tak\", \"Date (PDT)\": \"Fri Dec 20, 2024, 3:38PM\", \"Gameweek\": 17}, {\"Player\": \"Kevin Schade\", \"Team\": \"BRF\", \"Position\": \"M\", \"Type\": \"Drop\", \"Team.1\": \"That's Amorim!\", \"Date (PDT)\": \"Fri Dec 20, 2024, 3:03PM\", \"Gameweek\": 17}, {\"Player\": \"Bilal El Khannouss\", \"Team\": \"LEI\", \"Position\": \"M\", \"Type\": \"Drop\", \"Team.1\": \"Zirkish De Ligt\", \"Date (PDT)\": \"Fri Dec 20, 2024, 2:40PM\", \"Gameweek\": 17}, {\"Player\": \"Marcus Tavernier\", \"Team\": \"BOU\", \"Position\": \"M\", \"Type\": \"Drop\", \"Team.1\": \"Just gimme de Ligt and pass the Rice.\", \"Date (PDT)\": \"Fri Dec 20, 2024, 9:03AM\", \"Gameweek\": 17}, {\"Player\": \"Nick Pope\", \"Team\": \"NEW\", \"Position\": \"G\", \"Type\": \"Drop\", \"Team.1\": \"Just gimme de Ligt and pass the Rice.\", \"Date (PDT)\": \"Fri Dec 20, 2024, 9:00AM\", \"Gameweek\": 17}, {\"Player\": \"Mark Flekken\", \"Team\": \"BRF\", \"Position\": \"G\", \"Type\": \"Drop\", \"Team.1\": \"JP\", \"Date (PDT)\": \"Sat Dec 14, 2024, 5:15AM\", \"Gameweek\": 16}, {\"Player\": \"Riccardo Calafiori\", \"Team\": \"ARS\", \"Position\": \"D\", \"Type\": \"Drop\", \"Team.1\": \"Tiki Tak\", \"Date (PDT)\": \"Fri Dec 13, 2024, 6:42PM\", \"Gameweek\": 16}, {\"Player\": \"Casemiro\", \"Team\": \"MUN\", \"Position\": \"M\", \"Type\": \"Drop\", \"Team.1\": \"Zirkish De Ligt\", \"Date (PDT)\": \"Fri Dec 13, 2024, 2:29PM\", \"Gameweek\": 16}, {\"Player\": \"Caoimhin Kelleher\", \"Team\": \"LIV\", \"Position\": \"G\", \"Type\": \"Drop\", \"Team.1\": \"Rocksolid FC\", \"Date (PDT)\": \"Fri Dec 13, 2024, 2:16PM\", \"Gameweek\": 16}, {\"Player\": \"Bart Verbruggen\", \"Team\": \"BHA\", \"Position\": \"G\", \"Type\": \"Drop\", \"Team.1\": \"That's Amorim!\", \"Date (PDT)\": \"Fri Dec 13, 2024, 11:10AM\", \"Gameweek\": 16}, {\"Player\": \"Moises Caicedo\", \"Team\": \"CHE\", \"Position\": \"M\", \"Type\": \"Drop\", \"Team.1\": \"That's Amorim!\", \"Date (PDT)\": \"Fri Dec 13, 2024, 11:04AM\", \"Gameweek\": 16}, {\"Player\": \"Tariq Lamptey\", \"Team\": \"BHA\", \"Position\": \"D\", \"Type\": \"Drop\", \"Team.1\": \"Zirkish De Ligt\", \"Date (PDT)\": \"Fri Dec 6, 2024, 10:07AM\", \"Gameweek\": 15}, {\"Player\": \"Luke Shaw\", \"Team\": \"MUN\", \"Position\": \"D\", \"Type\": \"Drop\", \"Team.1\": \"Zirkish De Ligt\", \"Date (PDT)\": \"Fri Dec 6, 2024, 10:05AM\", \"Gameweek\": 15}, {\"Player\": \"Dara O'Shea\", \"Team\": \"IPS\", \"Position\": \"D\", \"Type\": \"Drop\", \"Team.1\": \"That's Amorim!\", \"Date (PDT)\": \"Fri Dec 6, 2024, 9:00AM\", \"Gameweek\": 15}, {\"Player\": \"Leif Davis\", \"Team\": \"IPS\", \"Position\": \"D\", \"Type\": \"Drop\", \"Team.1\": \"Tiki Tak\", \"Date (PDT)\": \"Fri Dec 6, 2024, 9:00AM\", \"Gameweek\": 15}, {\"Player\": \"Omari Hutchinson\", \"Team\": \"IPS\", \"Position\": \"M,F\", \"Type\": \"Drop\", \"Team.1\": \"Zirkish De Ligt\", \"Date (PDT)\": \"Mon Dec 2, 2024, 4:56PM\", \"Gameweek\": 14}, {\"Player\": \"Alex Moreno\", \"Team\": \"NOT\", \"Position\": \"D\", \"Type\": \"Drop\", \"Team.1\": \"Zirkish De Ligt\", \"Date (PDT)\": \"Mon Dec 2, 2024, 4:53PM\", \"Gameweek\": 14}, {\"Player\": \"Jhon Duran\", \"Team\": \"AVL\", \"Position\": \"F\", \"Type\": \"Drop\", \"Team.1\": \"Just gimme de Ligt and pass the Rice.\", \"Date (PDT)\": \"Mon Dec 2, 2024, 12:06PM\", \"Gameweek\": 14}, {\"Player\": \"Caleb Okoli\", \"Team\": \"LEI\", \"Position\": \"D\", \"Type\": \"Drop\", \"Team.1\": \"Zirkish De Ligt\", \"Date (PDT)\": \"Mon Dec 2, 2024, 10:59AM\", \"Gameweek\": 14}, {\"Player\": \"Matt O'Riley\", \"Team\": \"BHA\", \"Position\": \"M\", \"Type\": \"Drop\", \"Team.1\": \"That's Amorim!\", \"Date (PDT)\": \"Mon Dec 2, 2024, 9:00AM\", \"Gameweek\": 14}, {\"Player\": \"Pervis Estupinan\", \"Team\": \"BHA\", \"Position\": \"D\", \"Type\": \"Drop\", \"Team.1\": \"Tiki Tak\", \"Date (PDT)\": \"Mon Dec 2, 2024, 9:00AM\", \"Gameweek\": 14}, {\"Player\": \"Mikel Merino\", \"Team\": \"ARS\", \"Position\": \"M\", \"Type\": \"Drop\", \"Team.1\": \"That's Amorim!\", \"Date (PDT)\": \"Mon Dec 2, 2024, 9:00AM\", \"Gameweek\": 14}, {\"Player\": \"Georginio Rutter\", \"Team\": \"BHA\", \"Position\": \"M\", \"Type\": \"Drop\", \"Team.1\": \"Tiki Tak\", \"Date (PDT)\": \"Mon Dec 2, 2024, 9:00AM\", \"Gameweek\": 14}, {\"Player\": \"Marc Cucurella\", \"Team\": \"CHE\", \"Position\": \"D\", \"Type\": \"Drop\", \"Team.1\": \"Tiki Tak\", \"Date (PDT)\": \"Fri Nov 29, 2024, 11:11AM\", \"Gameweek\": 13}, {\"Player\": \"Reece James\", \"Team\": \"CHE\", \"Position\": \"D\", \"Type\": \"Drop\", \"Team.1\": \"Rocksolid FC\", \"Date (PDT)\": \"Fri Nov 29, 2024, 11:00AM\", \"Gameweek\": 13}, {\"Player\": \"Adama Traore\", \"Team\": \"FUL\", \"Position\": \"F\", \"Type\": \"Drop\", \"Team.1\": \"Rocksolid FC\", \"Date (PDT)\": \"Fri Nov 29, 2024, 10:55AM\", \"Gameweek\": 13}, {\"Player\": \"Rayan Ait-Nouri\", \"Team\": \"WOL\", \"Position\": \"D\", \"Type\": \"Drop\", \"Team.1\": \"Tiki Tak\", \"Date (PDT)\": \"Fri Nov 29, 2024, 10:34AM\", \"Gameweek\": 13}, {\"Player\": \"Micky van de Ven\", \"Team\": \"TOT\", \"Position\": \"D\", \"Type\": \"Drop\", \"Team.1\": \"Zirkish De Ligt\", \"Date (PDT)\": \"Fri Nov 29, 2024, 10:29AM\", \"Gameweek\": 13}, {\"Player\": \"Leny Yoro\", \"Team\": \"MUN\", \"Position\": \"D\", \"Type\": \"Drop\", \"Team.1\": \"Zirkish De Ligt\", \"Date (PDT)\": \"Fri Nov 29, 2024, 10:28AM\", \"Gameweek\": 13}, {\"Player\": \"Joshua Zirkzee\", \"Team\": \"MUN\", \"Position\": \"F\", \"Type\": \"Drop\", \"Team.1\": \"Just gimme de Ligt and pass the Rice.\", \"Date (PDT)\": \"Fri Nov 29, 2024, 9:02AM\", \"Gameweek\": 13}, {\"Player\": \"Wilfred Ndidi\", \"Team\": \"LEI\", \"Position\": \"M\", \"Type\": \"Drop\", \"Team.1\": \"That's Amorim!\", \"Date (PDT)\": \"Fri Nov 29, 2024, 9:00AM\", \"Gameweek\": 13}, {\"Player\": \"Lucas Paqueta\", \"Team\": \"WHU\", \"Position\": \"M\", \"Type\": \"Drop\", \"Team.1\": \"JP\", \"Date (PDT)\": \"Fri Nov 29, 2024, 9:00AM\", \"Gameweek\": 13}, {\"Player\": \"Mateo Kovacic\", \"Team\": \"MCI\", \"Position\": \"M\", \"Type\": \"Drop\", \"Team.1\": \"Just gimme de Ligt and pass the Rice.\", \"Date (PDT)\": \"Fri Nov 29, 2024, 9:00AM\", \"Gameweek\": 13}, {\"Player\": \"Carlos Baleba\", \"Team\": \"BHA\", \"Position\": \"M\", \"Type\": \"Drop\", \"Team.1\": \"Virgile\", \"Date (PDT)\": \"Fri Nov 29, 2024, 9:00AM\", \"Gameweek\": 13}, {\"Player\": \"Ezri Konsa\", \"Team\": \"AVL\", \"Position\": \"D\", \"Type\": \"Drop\", \"Team.1\": \"Tiki Tak\", \"Date (PDT)\": \"Fri Nov 22, 2024, 8:29AM\", \"Gameweek\": 12}, {\"Player\": \"Matheus Nunes\", \"Team\": \"MCI\", \"Position\": \"M\", \"Type\": \"Drop\", \"Team.1\": \"Tiki Tak\", \"Date (PDT)\": \"Thu Nov 21, 2024, 9:18PM\", \"Gameweek\": 12}, {\"Player\": \"Konstantinos Mavropanos\", \"Team\": \"WHU\", \"Position\": \"D\", \"Type\": \"Drop\", \"Team.1\": \"Zirkish De Ligt\", \"Date (PDT)\": \"Tue Nov 19, 2024, 10:48PM\", \"Gameweek\": 12}, {\"Player\": \"Jorgen Strand Larsen\", \"Team\": \"WOL\", \"Position\": \"F\", \"Type\": \"Drop\", \"Team.1\": \"Tiki Tak\", \"Date (PDT)\": \"Tue Nov 19, 2024, 8:15AM\", \"Gameweek\": 12}, {\"Player\": \"Ben White\", \"Team\": \"ARS\", \"Position\": \"D\", \"Type\": \"Drop\", \"Team.1\": \"Virgile\", \"Date (PDT)\": \"Tue Nov 19, 2024, 7:49AM\", \"Gameweek\": 12}, {\"Player\": \"Elliot Anderson\", \"Team\": \"NOT\", \"Position\": \"M\", \"Type\": \"Drop\", \"Team.1\": \"That's Amorim!\", \"Date (PDT)\": \"Fri Nov 15, 2024, 9:00AM\", \"Gameweek\": 12}, {\"Player\": \"Guglielmo Vicario\", \"Team\": \"TOT\", \"Position\": \"G\", \"Type\": \"Drop\", \"Team.1\": \"JP\", \"Date (PDT)\": \"Fri Nov 15, 2024, 9:00AM\", \"Gameweek\": 12}, {\"Player\": \"Ezri Konsa\", \"Team\": \"AVL\", \"Position\": \"D\", \"Type\": \"Drop\", \"Team.1\": \"Just gimme de Ligt and pass the Rice.\", \"Date (PDT)\": \"Fri Nov 8, 2024, 11:35AM\", \"Gameweek\": 11}, {\"Player\": \"Stephy Mavididi\", \"Team\": \"LEI\", \"Position\": \"M,F\", \"Type\": \"Drop\", \"Team.1\": \"That's Amorim!\", \"Date (PDT)\": \"Fri Nov 8, 2024, 10:34AM\", \"Gameweek\": 11}, {\"Player\": \"Marc Cucurella\", \"Team\": \"CHE\", \"Position\": \"D\", \"Type\": \"Drop\", \"Team.1\": \"That's Amorim!\", \"Date (PDT)\": \"Fri Nov 8, 2024, 9:00AM\", \"Gameweek\": 11}, {\"Player\": \"Mads Hermansen\", \"Team\": \"LEI\", \"Position\": \"G\", \"Type\": \"Drop\", \"Team.1\": \"Rocksolid FC\", \"Date (PDT)\": \"Fri Nov 1, 2024, 12:20PM\", \"Gameweek\": 10}, {\"Player\": \"Yankuba Minteh\", \"Team\": \"BHA\", \"Position\": \"M,F\", \"Type\": \"Drop\", \"Team.1\": \"Virgile\", \"Date (PDT)\": \"Fri Nov 1, 2024, 10:01AM\", \"Gameweek\": 10}, {\"Player\": \"Riccardo Calafiori\", \"Team\": \"ARS\", \"Position\": \"D\", \"Type\": \"Drop\", \"Team.1\": \"Tiki Tak\", \"Date (PDT)\": \"Fri Nov 1, 2024, 9:00AM\", \"Gameweek\": 10}, {\"Player\": \"Francisco Evanilson de Lima Barbosa\", \"Team\": \"BOU\", \"Position\": \"F\", \"Type\": \"Drop\", \"Team.1\": \"Tiki Tak\", \"Date (PDT)\": \"Fri Nov 1, 2024, 9:00AM\", \"Gameweek\": 10}, {\"Player\": \"Alexis Mac Allister\", \"Team\": \"LIV\", \"Position\": \"M\", \"Type\": \"Drop\", \"Team.1\": \"Just gimme de Ligt and pass the Rice.\", \"Date (PDT)\": \"Fri Nov 1, 2024, 9:00AM\", \"Gameweek\": 10}, {\"Player\": \"Liam Delap\", \"Team\": \"IPS\", \"Position\": \"F\", \"Type\": \"Drop\", \"Team.1\": \"Tiki Tak\", \"Date (PDT)\": \"Fri Nov 1, 2024, 9:00AM\", \"Gameweek\": 10}, {\"Player\": \"Kobbie Mainoo\", \"Team\": \"MUN\", \"Position\": \"M\", \"Type\": \"Drop\", \"Team.1\": \"That's Amorim!\", \"Date (PDT)\": \"Fri Nov 1, 2024, 9:00AM\", \"Gameweek\": 10}, {\"Player\": \"Tyrick Mitchell\", \"Team\": \"CRY\", \"Position\": \"D\", \"Type\": \"Drop\", \"Team.1\": \"Rocksolid FC\", \"Date (PDT)\": \"Fri Nov 1, 2024, 9:00AM\", \"Gameweek\": 10}, {\"Player\": \"Enzo Fernandez\", \"Team\": \"CHE\", \"Position\": \"M\", \"Type\": \"Drop\", \"Team.1\": \"Just gimme de Ligt and pass the Rice.\", \"Date (PDT)\": \"Fri Nov 1, 2024, 9:00AM\", \"Gameweek\": 10}, {\"Player\": \"Eddie Nketiah\", \"Team\": \"CRY\", \"Position\": \"F\", \"Type\": \"Drop\", \"Team.1\": \"Virgile\", \"Date (PDT)\": \"Fri Oct 18, 2024, 12:24PM\", \"Gameweek\": 8}, {\"Player\": \"Jack Hinshelwood\", \"Team\": \"BHA\", \"Position\": \"M\", \"Type\": \"Drop\", \"Team.1\": \"Virgile\", \"Date (PDT)\": \"Fri Oct 18, 2024, 7:50AM\", \"Gameweek\": 8}, {\"Player\": \"Destiny Udogie\", \"Team\": \"TOT\", \"Position\": \"D\", \"Type\": \"Drop\", \"Team.1\": \"Virgile\", \"Date (PDT)\": \"Fri Oct 18, 2024, 7:47AM\", \"Gameweek\": 8}, {\"Player\": \"Manuel Ugarte\", \"Team\": \"MUN\", \"Position\": \"M\", \"Type\": \"Drop\", \"Team.1\": \"Zirkish De Ligt\", \"Date (PDT)\": \"Thu Oct 17, 2024, 1:50PM\", \"Gameweek\": 8}, {\"Player\": \"Yukinari Sugawara\", \"Team\": \"SOU\", \"Position\": \"D\", \"Type\": \"Drop\", \"Team.1\": \"Zirkish De Ligt\", \"Date (PDT)\": \"Thu Oct 17, 2024, 1:23PM\", \"Gameweek\": 8}, {\"Player\": \"Harvey Barnes\", \"Team\": \"NEW\", \"Position\": \"M\", \"Type\": \"Drop\", \"Team.1\": \"Tiki Tak\", \"Date (PDT)\": \"Thu Oct 17, 2024, 11:53AM\", \"Gameweek\": 8}, {\"Player\": \"Kepa\", \"Team\": \"BOU\", \"Position\": \"G\", \"Type\": \"Drop\", \"Team.1\": \"Rocksolid FC\", \"Date (PDT)\": \"Mon Oct 14, 2024, 11:59PM\", \"Gameweek\": 8}, {\"Player\": \"Jadon Sancho\", \"Team\": \"CHE\", \"Position\": \"M,F\", \"Type\": \"Drop\", \"Team.1\": \"Tiki Tak\", \"Date (PDT)\": \"Fri Oct 11, 2024, 9:00AM\", \"Gameweek\": 8}, {\"Player\": \"Jorgen Strand Larsen\", \"Team\": \"WOL\", \"Position\": \"F\", \"Type\": \"Drop\", \"Team.1\": \"Tiki Tak\", \"Date (PDT)\": \"Fri Oct 11, 2024, 9:00AM\", \"Gameweek\": 8}, {\"Player\": \"James Ward-Prowse\", \"Team\": \"WHU\", \"Position\": \"M\", \"Type\": \"Drop\", \"Team.1\": \"That's Amorim!\", \"Date (PDT)\": \"Fri Oct 11, 2024, 9:00AM\", \"Gameweek\": 8}, {\"Player\": \"Joelinton\", \"Team\": \"NEW\", \"Position\": \"F\", \"Type\": \"Drop\", \"Team.1\": \"That's Amorim!\", \"Date (PDT)\": \"Fri Oct 4, 2024, 9:26AM\", \"Gameweek\": 7}, {\"Player\": \"Federico Chiesa\", \"Team\": \"LIV\", \"Position\": \"M,F\", \"Type\": \"Drop\", \"Team.1\": \"That's Amorim!\", \"Date (PDT)\": \"Fri Oct 4, 2024, 9:23AM\", \"Gameweek\": 7}, {\"Player\": \"James Tarkowski\", \"Team\": \"EVE\", \"Position\": \"D\", \"Type\": \"Drop\", \"Team.1\": \"Zirkish De Ligt\", \"Date (PDT)\": \"Fri Oct 4, 2024, 9:11AM\", \"Gameweek\": 7}, {\"Player\": \"Jean-Philippe Mateta\", \"Team\": \"CRY\", \"Position\": \"F\", \"Type\": \"Drop\", \"Team.1\": \"Tiki Tak\", \"Date (PDT)\": \"Fri Oct 4, 2024, 9:00AM\", \"Gameweek\": 7}, {\"Player\": \"Daniel Munoz\", \"Team\": \"CRY\", \"Position\": \"D\", \"Type\": \"Drop\", \"Team.1\": \"Tiki Tak\", \"Date (PDT)\": \"Fri Oct 4, 2024, 9:00AM\", \"Gameweek\": 7}, {\"Player\": \"Dean Henderson\", \"Team\": \"CRY\", \"Position\": \"G\", \"Type\": \"Drop\", \"Team.1\": \"JP\", \"Date (PDT)\": \"Fri Oct 4, 2024, 9:00AM\", \"Gameweek\": 7}, {\"Player\": \"Francisco Evanilson de Lima Barbosa\", \"Team\": \"BOU\", \"Position\": \"F\", \"Type\": \"Drop\", \"Team.1\": \"Virgile\", \"Date (PDT)\": \"Fri Sep 27, 2024, 11:34AM\", \"Gameweek\": 6}, {\"Player\": \"Yves Bissouma\", \"Team\": \"TOT\", \"Position\": \"M\", \"Type\": \"Drop\", \"Team.1\": \"That's Amorim!\", \"Date (PDT)\": \"Fri Sep 27, 2024, 10:16AM\", \"Gameweek\": 6}, {\"Player\": \"Simon Adingra\", \"Team\": \"BHA\", \"Position\": \"M,F\", \"Type\": \"Drop\", \"Team.1\": \"That's Amorim!\", \"Date (PDT)\": \"Fri Sep 27, 2024, 10:16AM\", \"Gameweek\": 6}, {\"Player\": \"Valentino Livramento\", \"Team\": \"NEW\", \"Position\": \"D\", \"Type\": \"Drop\", \"Team.1\": \"Rocksolid FC\", \"Date (PDT)\": \"Fri Sep 27, 2024, 9:25AM\", \"Gameweek\": 6}, {\"Player\": \"Bernd Leno\", \"Team\": \"FUL\", \"Position\": \"G\", \"Type\": \"Drop\", \"Team.1\": \"Rocksolid FC\", \"Date (PDT)\": \"Fri Sep 27, 2024, 9:23AM\", \"Gameweek\": 6}, {\"Player\": \"James Ward-Prowse\", \"Team\": \"WHU\", \"Position\": \"M\", \"Type\": \"Drop\", \"Team.1\": \"Just gimme de Ligt and pass the Rice.\", \"Date (PDT)\": \"Fri Sep 27, 2024, 9:03AM\", \"Gameweek\": 6}, {\"Player\": \"Jacob Greaves\", \"Team\": \"IPS\", \"Position\": \"D\", \"Type\": \"Drop\", \"Team.1\": \"Tiki Tak\", \"Date (PDT)\": \"Fri Sep 27, 2024, 9:00AM\", \"Gameweek\": 6}, {\"Player\": \"Rodri\", \"Team\": \"MCI\", \"Position\": \"M\", \"Type\": \"Drop\", \"Team.1\": \"Tiki Tak\", \"Date (PDT)\": \"Fri Sep 27, 2024, 9:00AM\", \"Gameweek\": 6}, {\"Player\": \"Jamie Vardy\", \"Team\": \"LEI\", \"Position\": \"F\", \"Type\": \"Drop\", \"Team.1\": \"Tiki Tak\", \"Date (PDT)\": \"Fri Sep 27, 2024, 9:00AM\", \"Gameweek\": 6}, {\"Player\": \"Mikel Merino\", \"Team\": \"ARS\", \"Position\": \"M\", \"Type\": \"Drop\", \"Team.1\": \"Tiki Tak\", \"Date (PDT)\": \"Fri Sep 20, 2024, 9:55PM\", \"Gameweek\": 5}, {\"Player\": \"Ruben Dias\", \"Team\": \"MCI\", \"Position\": \"D\", \"Type\": \"Drop\", \"Team.1\": \"Tiki Tak\", \"Date (PDT)\": \"Fri Sep 20, 2024, 9:53PM\", \"Gameweek\": 5}, {\"Player\": \"Leon Bailey\", \"Team\": \"AVL\", \"Position\": \"M\", \"Type\": \"Drop\", \"Team.1\": \"Virgile\", \"Date (PDT)\": \"Fri Sep 20, 2024, 9:30AM\", \"Gameweek\": 5}, {\"Player\": \"Omari Hutchinson\", \"Team\": \"IPS\", \"Position\": \"M,F\", \"Type\": \"Drop\", \"Team.1\": \"Zirkish De Ligt\", \"Date (PDT)\": \"Fri Sep 20, 2024, 9:24AM\", \"Gameweek\": 5}, {\"Player\": \"Daniel Munoz\", \"Team\": \"CRY\", \"Position\": \"D\", \"Type\": \"Drop\", \"Team.1\": \"Tiki Tak\", \"Date (PDT)\": \"Fri Sep 20, 2024, 9:02AM\", \"Gameweek\": 5}, {\"Player\": \"Yoane Wissa\", \"Team\": \"BRF\", \"Position\": \"M\", \"Type\": \"Drop\", \"Team.1\": \"That's Amorim!\", \"Date (PDT)\": \"Fri Sep 20, 2024, 9:00AM\", \"Gameweek\": 5}, {\"Player\": \"Rodrigo Muniz\", \"Team\": \"FUL\", \"Position\": \"F\", \"Type\": \"Drop\", \"Team.1\": \"Tiki Tak\", \"Date (PDT)\": \"Fri Sep 20, 2024, 9:00AM\", \"Gameweek\": 5}, {\"Player\": \"Guglielmo Vicario\", \"Team\": \"TOT\", \"Position\": \"G\", \"Type\": \"Drop\", \"Team.1\": \"Virgile\", \"Date (PDT)\": \"Fri Sep 20, 2024, 9:00AM\", \"Gameweek\": 5}, {\"Player\": \"Neco Williams\", \"Team\": \"NOT\", \"Position\": \"D\", \"Type\": \"Drop\", \"Team.1\": \"That's Amorim!\", \"Date (PDT)\": \"Fri Sep 20, 2024, 9:00AM\", \"Gameweek\": 5}, {\"Player\": \"Pedro Neto\", \"Team\": \"CHE\", \"Position\": \"M\", \"Type\": \"Drop\", \"Team.1\": \"Rocksolid FC\", \"Date (PDT)\": \"Fri Sep 20, 2024, 9:00AM\", \"Gameweek\": 5}, {\"Player\": \"Ian Maatsen\", \"Team\": \"AVL\", \"Position\": \"D\", \"Type\": \"Drop\", \"Team.1\": \"We don't talk about Bruno\", \"Date (PDT)\": \"Fri Sep 20, 2024, 9:00AM\", \"Gameweek\": 5}, {\"Player\": \"Riccardo Calafiori\", \"Team\": \"ARS\", \"Position\": \"D\", \"Type\": \"Drop\", \"Team.1\": \"We don't talk about Bruno\", \"Date (PDT)\": \"Sat Sep 14, 2024, 3:37AM\", \"Gameweek\": 4}, {\"Player\": \"Niclas F\\u00fcllkrug\", \"Team\": \"WHU\", \"Position\": \"F\", \"Type\": \"Drop\", \"Team.1\": \"Rocksolid FC\", \"Date (PDT)\": \"Fri Sep 13, 2024, 10:51PM\", \"Gameweek\": 4}, {\"Player\": \"Christopher Nkunku\", \"Team\": \"CHE\", \"Position\": \"M,F\", \"Type\": \"Drop\", \"Team.1\": \"Just gimme de Ligt and pass the Rice.\", \"Date (PDT)\": \"Fri Sep 13, 2024, 9:44PM\", \"Gameweek\": 4}, {\"Player\": \"Jo\\u00e3o F\\u00e9lix\", \"Team\": \"CHE\", \"Position\": \"M,F\", \"Type\": \"Drop\", \"Team.1\": \"Tiki Tak\", \"Date (PDT)\": \"Fri Sep 13, 2024, 8:57PM\", \"Gameweek\": 4}, {\"Player\": \"Joachim Andersen\", \"Team\": \"FUL\", \"Position\": \"D\", \"Type\": \"Drop\", \"Team.1\": \"Tiki Tak\", \"Date (PDT)\": \"Fri Sep 13, 2024, 8:52PM\", \"Gameweek\": 4}, {\"Player\": \"Kyle Walker\", \"Team\": \"MCI\", \"Position\": \"D\", \"Type\": \"Drop\", \"Team.1\": \"Jared\", \"Date (PDT)\": \"Fri Sep 13, 2024, 1:40PM\", \"Gameweek\": 4}, {\"Player\": \"Jordan Pickford\", \"Team\": \"EVE\", \"Position\": \"G\", \"Type\": \"Drop\", \"Team.1\": \"That's Amorim!\", \"Date (PDT)\": \"Tue Sep 10, 2024, 2:59PM\", \"Gameweek\": 4}, {\"Player\": \"Daniel Munoz\", \"Team\": \"CRY\", \"Position\": \"D\", \"Type\": \"Drop\", \"Team.1\": \"Rocksolid FC\", \"Date (PDT)\": \"Fri Sep 6, 2024, 11:07PM\", \"Gameweek\": 4}, {\"Player\": \"Willy Boly\", \"Team\": \"NOT\", \"Position\": \"D\", \"Type\": \"Drop\", \"Team.1\": \"Zirkish De Ligt\", \"Date (PDT)\": \"Fri Sep 6, 2024, 2:22PM\", \"Gameweek\": 4}, {\"Player\": \"Gabriel Martinelli\", \"Team\": \"ARS\", \"Position\": \"M,F\", \"Type\": \"Drop\", \"Team.1\": \"Zirkish De Ligt\", \"Date (PDT)\": \"Fri Sep 6, 2024, 2:20PM\", \"Gameweek\": 4}, {\"Player\": \"Ethan Pinnock\", \"Team\": \"BRF\", \"Position\": \"D\", \"Type\": \"Drop\", \"Team.1\": \"Zirkish De Ligt\", \"Date (PDT)\": \"Fri Sep 6, 2024, 9:36AM\", \"Gameweek\": 4}, {\"Player\": \"Alphonse Areola\", \"Team\": \"WHU\", \"Position\": \"G\", \"Type\": \"Drop\", \"Team.1\": \"JP\", \"Date (PDT)\": \"Fri Sep 6, 2024, 9:00AM\", \"Gameweek\": 4}, {\"Player\": \"Neto\", \"Team\": \"ARS\", \"Position\": \"G\", \"Type\": \"Drop\", \"Team.1\": \"Rocksolid FC\", \"Date (PDT)\": \"Sat Aug 31, 2024, 2:38AM\", \"Gameweek\": 3}, {\"Player\": \"Aaron Wan-Bissaka\", \"Team\": \"WHU\", \"Position\": \"D\", \"Type\": \"Drop\", \"Team.1\": \"That's Amorim!\", \"Date (PDT)\": \"Fri Aug 30, 2024, 4:07PM\", \"Gameweek\": 3}, {\"Player\": \"Mateo Kovacic\", \"Team\": \"MCI\", \"Position\": \"M\", \"Type\": \"Drop\", \"Team.1\": \"That's Amorim!\", \"Date (PDT)\": \"Fri Aug 30, 2024, 4:06PM\", \"Gameweek\": 3}, {\"Player\": \"Dominic Calvert-Lewin\", \"Team\": \"EVE\", \"Position\": \"F\", \"Type\": \"Drop\", \"Team.1\": \"That's Amorim!\", \"Date (PDT)\": \"Fri Aug 30, 2024, 4:05PM\", \"Gameweek\": 3}, {\"Player\": \"Marc Guiu\", \"Team\": \"CHE\", \"Position\": \"F\", \"Type\": \"Drop\", \"Team.1\": \"We don't talk about Bruno\", \"Date (PDT)\": \"Fri Aug 30, 2024, 9:48AM\", \"Gameweek\": 3}, {\"Player\": \"Mason Mount\", \"Team\": \"MUN\", \"Position\": \"M\", \"Type\": \"Drop\", \"Team.1\": \"Just gimme de Ligt and pass the Rice.\", \"Date (PDT)\": \"Fri Aug 30, 2024, 9:05AM\", \"Gameweek\": 3}, {\"Player\": \"Mads Hermansen\", \"Team\": \"LEI\", \"Position\": \"G\", \"Type\": \"Drop\", \"Team.1\": \"Rocksolid FC\", \"Date (PDT)\": \"Fri Aug 30, 2024, 9:04AM\", \"Gameweek\": 3}, {\"Player\": \"Fabian Schar\", \"Team\": \"NEW\", \"Position\": \"D\", \"Type\": \"Drop\", \"Team.1\": \"Rocksolid FC\", \"Date (PDT)\": \"Fri Aug 30, 2024, 9:03AM\", \"Gameweek\": 3}, {\"Player\": \"Valentino Livramento\", \"Team\": \"NEW\", \"Position\": \"D\", \"Type\": \"Drop\", \"Team.1\": \"Tiki Tak\", \"Date (PDT)\": \"Fri Aug 30, 2024, 9:00AM\", \"Gameweek\": 3}, {\"Player\": \"Mark Flekken\", \"Team\": \"BRF\", \"Position\": \"G\", \"Type\": \"Drop\", \"Team.1\": \"JP\", \"Date (PDT)\": \"Fri Aug 30, 2024, 9:00AM\", \"Gameweek\": 3}, {\"Player\": \"Jacob Murphy\", \"Team\": \"NEW\", \"Position\": \"M\", \"Type\": \"Drop\", \"Team.1\": \"Tiki Tak\", \"Date (PDT)\": \"Fri Aug 30, 2024, 9:00AM\", \"Gameweek\": 3}, {\"Player\": \"Ben Brereton\", \"Team\": \"SOU\", \"Position\": \"F\", \"Type\": \"Drop\", \"Team.1\": \"Virgile\", \"Date (PDT)\": \"Fri Aug 30, 2024, 9:00AM\", \"Gameweek\": 3}, {\"Player\": \"Jamie Vardy\", \"Team\": \"LEI\", \"Position\": \"F\", \"Type\": \"Drop\", \"Team.1\": \"Jared\", \"Date (PDT)\": \"Fri Aug 30, 2024, 9:00AM\", \"Gameweek\": 3}, {\"Player\": \"Harvey Elliott\", \"Team\": \"LIV\", \"Position\": \"M\", \"Type\": \"Drop\", \"Team.1\": \"JP\", \"Date (PDT)\": \"Fri Aug 30, 2024, 9:00AM\", \"Gameweek\": 3}, {\"Player\": \"Daichi Kamada\", \"Team\": \"CRY\", \"Position\": \"M\", \"Type\": \"Drop\", \"Team.1\": \"Tiki Tak\", \"Date (PDT)\": \"Fri Aug 30, 2024, 9:00AM\", \"Gameweek\": 3}, {\"Player\": \"Ismaila Sarr\", \"Team\": \"CRY\", \"Position\": \"F\", \"Type\": \"Drop\", \"Team.1\": \"Zirkish De Ligt\", \"Date (PDT)\": \"Fri Aug 23, 2024, 7:46PM\", \"Gameweek\": 2}, {\"Player\": \"Stephy Mavididi\", \"Team\": \"LEI\", \"Position\": \"M,F\", \"Type\": \"Drop\", \"Team.1\": \"Zirkish De Ligt\", \"Date (PDT)\": \"Fri Aug 23, 2024, 7:44PM\", \"Gameweek\": 2}, {\"Player\": \"Kieran Trippier\", \"Team\": \"NEW\", \"Position\": \"D\", \"Type\": \"Drop\", \"Team.1\": \"Zirkish De Ligt\", \"Date (PDT)\": \"Fri Aug 23, 2024, 7:43PM\", \"Gameweek\": 2}, {\"Player\": \"Luke Shaw\", \"Team\": \"MUN\", \"Position\": \"D\", \"Type\": \"Drop\", \"Team.1\": \"That's Amorim!\", \"Date (PDT)\": \"Fri Aug 23, 2024, 1:07PM\", \"Gameweek\": 2}, {\"Player\": \"Reece James\", \"Team\": \"CHE\", \"Position\": \"D\", \"Type\": \"Drop\", \"Team.1\": \"We don't talk about Bruno\", \"Date (PDT)\": \"Fri Aug 23, 2024, 11:50AM\", \"Gameweek\": 2}, {\"Player\": \"Solly March\", \"Team\": \"BHA\", \"Position\": \"M\", \"Type\": \"Drop\", \"Team.1\": \"Virgile\", \"Date (PDT)\": \"Fri Aug 23, 2024, 9:57AM\", \"Gameweek\": 2}, {\"Player\": \"Alphonse Areola\", \"Team\": \"WHU\", \"Position\": \"G\", \"Type\": \"Drop\", \"Team.1\": \"Rocksolid FC\", \"Date (PDT)\": \"Fri Aug 23, 2024, 9:04AM\", \"Gameweek\": 2}, {\"Player\": \"Ivan Toney\", \"Team\": \"BRF\", \"Position\": \"F\", \"Type\": \"Drop\", \"Team.1\": \"Jared\", \"Date (PDT)\": \"Fri Aug 23, 2024, 9:03AM\", \"Gameweek\": 2}, {\"Player\": \"Dan Burn\", \"Team\": \"NEW\", \"Position\": \"D\", \"Type\": \"Drop\", \"Team.1\": \"Tiki Tak\", \"Date (PDT)\": \"Fri Aug 23, 2024, 9:02AM\", \"Gameweek\": 2}, {\"Player\": \"Leif Davis\", \"Team\": \"IPS\", \"Position\": \"D\", \"Type\": \"Drop\", \"Team.1\": \"Tiki Tak\", \"Date (PDT)\": \"Fri Aug 23, 2024, 9:02AM\", \"Gameweek\": 2}, {\"Player\": \"Valentin Barco\", \"Team\": \"BHA\", \"Position\": \"D\", \"Type\": \"Drop\", \"Team.1\": \"Tiki Tak\", \"Date (PDT)\": \"Fri Aug 23, 2024, 9:02AM\", \"Gameweek\": 2}, {\"Player\": \"Leandro Trossard\", \"Team\": \"ARS\", \"Position\": \"M,F\", \"Type\": \"Drop\", \"Team.1\": \"That's Amorim!\", \"Date (PDT)\": \"Fri Aug 23, 2024, 9:00AM\", \"Gameweek\": 2}, {\"Player\": \"Joachim Andersen\", \"Team\": \"FUL\", \"Position\": \"D\", \"Type\": \"Drop\", \"Team.1\": \"Virgile\", \"Date (PDT)\": \"Fri Aug 23, 2024, 9:00AM\", \"Gameweek\": 2}, {\"Player\": \"Callum Wilson\", \"Team\": \"NEW\", \"Position\": \"F\", \"Type\": \"Drop\", \"Team.1\": \"That's Amorim!\", \"Date (PDT)\": \"Fri Aug 23, 2024, 9:00AM\", \"Gameweek\": 2}, {\"Player\": \"Calvin Bassey\", \"Team\": \"FUL\", \"Position\": \"D\", \"Type\": \"Drop\", \"Team.1\": \"Just gimme de Ligt and pass the Rice.\", \"Date (PDT)\": \"Fri Aug 23, 2024, 9:00AM\", \"Gameweek\": 2}, {\"Player\": \"Morgan Gibbs-White\", \"Team\": \"NOT\", \"Position\": \"M\", \"Type\": \"Drop\", \"Team.1\": \"Virgile\", \"Date (PDT)\": \"Fri Aug 23, 2024, 9:00AM\", \"Gameweek\": 2}, {\"Player\": \"Raheem Sterling\", \"Team\": \"ARS\", \"Position\": \"M,F\", \"Type\": \"Drop\", \"Team.1\": \"Jared\", \"Date (PDT)\": \"Fri Aug 23, 2024, 9:00AM\", \"Gameweek\": 2}, {\"Player\": \"Gabriel Jesus\", \"Team\": \"ARS\", \"Position\": \"F\", \"Type\": \"Drop\", \"Team.1\": \"That's Amorim!\", \"Date (PDT)\": \"Fri Aug 23, 2024, 9:00AM\", \"Gameweek\": 2}, {\"Player\": \"Jose Sa\", \"Team\": \"WOL\", \"Position\": \"G\", \"Type\": \"Drop\", \"Team.1\": \"Rocksolid FC\", \"Date (PDT)\": \"Fri Aug 16, 2024, 11:28AM\", \"Gameweek\": 1}, {\"Player\": \"Conor Gallagher\", \"Team\": \"CHE\", \"Position\": \"M\", \"Type\": \"Drop\", \"Team.1\": \"Rocksolid FC\", \"Date (PDT)\": \"Fri Aug 16, 2024, 9:01AM\", \"Gameweek\": 1}, {\"Player\": \"Timo Werner\", \"Team\": \"TOT\", \"Position\": \"F\", \"Type\": \"Drop\", \"Team.1\": \"Just gimme de Ligt and pass the Rice.\", \"Date (PDT)\": \"Fri Aug 16, 2024, 9:00AM\", \"Gameweek\": 1}, {\"Player\": \"Niclas F\\u00fcllkrug\", \"Team\": \"WHU\", \"Position\": \"F\", \"Type\": \"Drop\", \"Team.1\": \"Tiki Tak\", \"Date (PDT)\": \"Fri Aug 16, 2024, 8:36AM\", \"Gameweek\": 1}, {\"Player\": \"Antonee Robinson\", \"Team\": \"FUL\", \"Position\": \"D\", \"Type\": \"Drop\", \"Team.1\": \"Virgile\", \"Date (PDT)\": \"Thu Aug 15, 2024, 4:43AM\", \"Gameweek\": 1}, {\"Player\": \"Jack Grealish\", \"Team\": \"MCI\", \"Position\": \"M\", \"Type\": \"Drop\", \"Team.1\": \"Tiki Tak\", \"Date (PDT)\": \"Tue Aug 13, 2024, 8:25PM\", \"Gameweek\": 1}, {\"Player\": \"John Stones\", \"Team\": \"MCI\", \"Position\": \"D\", \"Type\": \"Drop\", \"Team.1\": \"Tiki Tak\", \"Date (PDT)\": \"Tue Aug 13, 2024, 8:24PM\", \"Gameweek\": 1}, {\"Player\": \"Pervis Estupinan\", \"Team\": \"BHA\", \"Position\": \"D\", \"Type\": \"Drop\", \"Team.1\": \"That's Amorim!\", \"Date (PDT)\": \"Tue Aug 13, 2024, 1:39PM\", \"Gameweek\": 1}, {\"Player\": \"Jarrad Branthwaite\", \"Team\": \"EVE\", \"Position\": \"D\", \"Type\": \"Drop\", \"Team.1\": \"Virgile\", \"Date (PDT)\": \"Tue Aug 13, 2024, 2:34AM\", \"Gameweek\": 1}, {\"Player\": \"Julian Alvarez\", \"Team\": \"MCI\", \"Position\": \"F\", \"Type\": \"Drop\", \"Team.1\": \"Zirkish De Ligt\", \"Date (PDT)\": \"Mon Aug 12, 2024, 8:17PM\", \"Gameweek\": 1}, {\"Player\": \"Julio Enciso\", \"Team\": \"IPS\", \"Position\": \"M,F\", \"Type\": \"Drop\", \"Team.1\": \"JP\", \"Date (PDT)\": \"Sat Aug 10, 2024, 11:10AM\", \"Gameweek\": 1}, {\"Player\": \"Oscar Bobb\", \"Team\": \"MCI\", \"Position\": \"M\", \"Type\": \"Drop\", \"Team.1\": \"Tiki Tak\", \"Date (PDT)\": \"Fri Aug 9, 2024, 10:02AM\", \"Gameweek\": 1}, {\"Player\": \"Ryan Christie\", \"Team\": \"BOU\", \"Position\": \"M\", \"Type\": \"Drop\", \"Team.1\": \"Virgile\", \"Date (PDT)\": \"Sun Aug 4, 2024, 3:22AM\", \"Gameweek\": 1}, {\"Player\": \"Max Kilman\", \"Team\": \"WHU\", \"Position\": \"D\", \"Type\": \"Drop\", \"Team.1\": \"Tiki Tak\", \"Date (PDT)\": \"Sat Aug 3, 2024, 5:07PM\", \"Gameweek\": 1}, {\"Player\": \"Ross Barkley\", \"Team\": \"AVL\", \"Position\": \"M\", \"Type\": \"Drop\", \"Team.1\": \"Rocksolid FC\", \"Date (PDT)\": \"Sat Aug 3, 2024, 6:14AM\", \"Gameweek\": 1}, {\"Player\": \"Marcus Tavernier\", \"Team\": \"BOU\", \"Position\": \"M\", \"Type\": \"Drop\", \"Team.1\": \"Rocksolid FC\", \"Date (PDT)\": \"Sat Aug 3, 2024, 6:12AM\", \"Gameweek\": 1}, {\"Player\": \"Harvey Elliott\", \"Team\": \"LIV\", \"Position\": \"M\", \"Type\": \"Drop\", \"Team.1\": \"JP\", \"Date (PDT)\": \"Fri Aug 2, 2024, 8:55PM\", \"Gameweek\": 1}]}}, {\"mode\": \"vega-lite\"});\n",
       "</script>"
      ],
      "text/plain": [
       "alt.Chart(...)"
      ]
     },
     "execution_count": 83,
     "metadata": {},
     "output_type": "execute_result"
    }
   ],
   "source": [
    "plot_most = alt.Chart(data_claims, height = 300, width = 500\n",
    "                     ).mark_bar().encode(\n",
    "    x = alt.X('count()'), \n",
    "    y = alt.Y('Team', sort = '-x')).properties()\n",
    "\n",
    "plot_most"
   ]
  },
  {
   "cell_type": "code",
   "execution_count": null,
   "id": "07f8a782-20a4-4725-a80a-2f8abd2b6107",
   "metadata": {},
   "outputs": [],
   "source": []
  },
  {
   "cell_type": "code",
   "execution_count": null,
   "id": "439d0403-3ebe-48c1-94e4-2d38b3f7204d",
   "metadata": {},
   "outputs": [],
   "source": []
  }
 ],
 "metadata": {
  "kernelspec": {
   "display_name": "Python 3 (ipykernel)",
   "language": "python",
   "name": "python3"
  },
  "language_info": {
   "codemirror_mode": {
    "name": "ipython",
    "version": 3
   },
   "file_extension": ".py",
   "mimetype": "text/x-python",
   "name": "python",
   "nbconvert_exporter": "python",
   "pygments_lexer": "ipython3",
   "version": "3.12.3"
  }
 },
 "nbformat": 4,
 "nbformat_minor": 5
}
